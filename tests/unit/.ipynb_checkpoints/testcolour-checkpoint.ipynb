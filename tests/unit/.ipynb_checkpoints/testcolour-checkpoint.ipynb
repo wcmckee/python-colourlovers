{
 "cells": [
  {
   "cell_type": "code",
   "execution_count": 50,
   "metadata": {
    "collapsed": false
   },
   "outputs": [],
   "source": [
    "import unittest\n",
    "import colourlovers as cl\n",
    "from mock import Mock\n",
    "import random\n",
    "import hamcrest\n"
   ]
  },
  {
   "cell_type": "code",
   "execution_count": null,
   "metadata": {
    "collapsed": true
   },
   "outputs": [],
   "source": []
  },
  {
   "cell_type": "code",
   "execution_count": 51,
   "metadata": {
    "collapsed": false
   },
   "outputs": [],
   "source": [
    "class TestColourLoversApi(unittest.TestCase):\n",
    "    \n",
    "    def setUp(self):\n",
    "        #self.colornam = ('#6b4106')\n",
    "        self.rabdcik = list(['#6b4106', '#FFFFFF', '#540918'])\n",
    "        self.ranchoi = random.choice(self.rabdcik)\n",
    "        \n",
    "        \n",
    "        #Setup a list of random colours (5), \n",
    "        \n",
    "\n",
    "    def test_can_retrieve_color_from_hex_value(self):\n",
    "         #cl_api = cl.ColourLovers()\n",
    "            \n",
    "        #res = cl_api.color(hexstr)\n",
    "            #self.assertEquals(len(res), 1)\n",
    "            #self.assertEquals(type(colornam, cl.Colour)\n",
    "        self.assertEquals('#6b4106', '#6b4106')\n",
    "            \n",
    "    \n",
    "    def test_random_colours_to_dict(self):\n",
    "        #This tests retrieving random colours from\n",
    "        #colourlovers and saving a json file with details.\n",
    "        #This is for hostname assign.\n",
    "        clx = cl.ColourLovers()\n",
    "        \n",
    "        res = clx.color(self.ranchoi)\n",
    "        mydict = dict()\n",
    "\n",
    "        mydict.update({'hex' : res})\n",
    "        \n",
    "        hamcrest.assert_that (mydict) == hamcrest.not_none\n",
    "\n",
    "        \n",
    "    #def test_retrieving_color_from_invalid_hex_raises_an_exception(self):\n",
    "    #    cl_api = cl.ColourLovers()\n",
    "\n",
    "     #   self.assertRaises(cl.ColourLoversError, cl_api.color, '6B410')\n",
    "\n",
    "        \n",
    "    def tearDown(self):\n",
    "        #self.colornam.dispose()\n",
    "        self.colornam = None\n",
    "            \n",
    "    \n",
    "            \n",
    "#if __name__ == '__main__':\n",
    "#    unittest.main()"
   ]
  },
  {
   "cell_type": "code",
   "execution_count": 38,
   "metadata": {
    "collapsed": true
   },
   "outputs": [],
   "source": [
    "#colornam = list(['6B4106', '#6b4106'])"
   ]
  },
  {
   "cell_type": "code",
   "execution_count": 39,
   "metadata": {
    "collapsed": false
   },
   "outputs": [
    {
     "data": {
      "text/plain": [
       "['6B4106', '#6b4106']"
      ]
     },
     "execution_count": 39,
     "metadata": {},
     "output_type": "execute_result"
    }
   ],
   "source": [
    "#colornam"
   ]
  },
  {
   "cell_type": "code",
   "execution_count": 7,
   "metadata": {
    "collapsed": false
   },
   "outputs": [],
   "source": [
    "''''\n",
    "\n",
    "class testcolour(unittest.TestCase):\n",
    "    def set_up(self):\n",
    "        self.li\n",
    "        liscolorid.append(id=14, 'title)\n",
    "    def test_rgbtocolor(self):\n",
    "        #self.\n",
    "        colourlovers.Colour\n",
    "        \n",
    "        colourlovers.RGB.hex(0000000)\n",
    "'''   "
   ]
  },
  {
   "cell_type": "code",
   "execution_count": 8,
   "metadata": {
    "collapsed": false
   },
   "outputs": [],
   "source": [
    "#colourlovers.Colour()\n",
    "\n",
    "#cl = ColourLovers()"
   ]
  },
  {
   "cell_type": "code",
   "execution_count": 9,
   "metadata": {
    "collapsed": false
   },
   "outputs": [],
   "source": [
    "#import colourlovers"
   ]
  },
  {
   "cell_type": "code",
   "execution_count": 10,
   "metadata": {
    "collapsed": false
   },
   "outputs": [],
   "source": [
    "#cwhit = ColourLovers.Colour('#000000')"
   ]
  },
  {
   "cell_type": "code",
   "execution_count": 42,
   "metadata": {
    "collapsed": false
   },
   "outputs": [
    {
     "ename": "AttributeError",
     "evalue": "'str' object has no attribute 'hex'",
     "output_type": "error",
     "traceback": [
      "\u001b[1;31m---------------------------------------------------------------------------\u001b[0m",
      "\u001b[1;31mAttributeError\u001b[0m                            Traceback (most recent call last)",
      "\u001b[1;32m<ipython-input-42-68ab0791fd94>\u001b[0m in \u001b[0;36m<module>\u001b[1;34m()\u001b[0m\n\u001b[1;32m----> 1\u001b[1;33m \u001b[1;34m'ffffff'\u001b[0m\u001b[1;33m.\u001b[0m\u001b[0mhex\u001b[0m\u001b[1;33m\u001b[0m\u001b[0m\n\u001b[0m",
      "\u001b[1;31mAttributeError\u001b[0m: 'str' object has no attribute 'hex'"
     ]
    }
   ],
   "source": [
    "#'ffffff'.hex"
   ]
  },
  {
   "cell_type": "code",
   "execution_count": null,
   "metadata": {
    "collapsed": true
   },
   "outputs": [],
   "source": []
  }
 ],
 "metadata": {
  "kernelspec": {
   "display_name": "Python 2",
   "language": "python",
   "name": "python2"
  },
  "language_info": {
   "codemirror_mode": {
    "name": "ipython",
    "version": 2
   },
   "file_extension": ".py",
   "mimetype": "text/x-python",
   "name": "python",
   "nbconvert_exporter": "python",
   "pygments_lexer": "ipython2",
   "version": "2.7.3"
  }
 },
 "nbformat": 4,
 "nbformat_minor": 0
}
